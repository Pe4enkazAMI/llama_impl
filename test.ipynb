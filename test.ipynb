{
 "cells": [
  {
   "cell_type": "code",
   "execution_count": 1,
   "metadata": {},
   "outputs": [],
   "source": [
    "%load_ext autoreload\n",
    "%autoreload 2\n",
    "\n",
    "from model.feedforward import FeedForwardLayer\n",
    "import torch\n",
    "from model.attention import MultiHeadAttention\n",
    "from model.decoder import Decoder\n",
    "import numpy as np"
   ]
  },
  {
   "cell_type": "code",
   "execution_count": 2,
   "metadata": {},
   "outputs": [],
   "source": [
    "from tokenizer.tokenizer  import Tokenizer\n",
    "tknz = Tokenizer(None, None, None, None)\n",
    "tknz.load(\"/Users/bayesian_monster/llama/llama\")"
   ]
  },
  {
   "cell_type": "code",
   "execution_count": 3,
   "metadata": {},
   "outputs": [],
   "source": [
    "from dataset.dataset import LLaMaDataset, collate_fn\n",
    "from torch.utils.data import DataLoader\n",
    "dataset = LLaMaDataset(\"/Users/bayesian_monster/llama/train_files\")\n",
    "train_dataloader = DataLoader(dataset, collate_fn=collate_fn, batch_size=10)\n"
   ]
  },
  {
   "cell_type": "code",
   "execution_count": 13,
   "metadata": {},
   "outputs": [],
   "source": [
    "NUM_EPOCH = 1000\n",
    "EMB_DIM=128\n",
    "NUM_HEAD=2\n",
    "EXP_FACTOR=2\n",
    "NUM_LAYERS=2\n",
    "DROPOUT=0.1\n",
    "DEVICE = \"cpu\"\n",
    "model = Decoder(emb_dim=EMB_DIM,\n",
    "                num_head=NUM_HEAD,\n",
    "                exp_factor=EXP_FACTOR, \n",
    "                num_layers=NUM_LAYERS, \n",
    "                dropout=DROPOUT, \n",
    "                use_rope=False)\n",
    "optimzer = torch.optim.AdamW(model.parameters(), lr=3e-4)\n",
    "criterion = torch.nn.CrossEntropyLoss(label_smoothing=0.2, ignore_index=3)"
   ]
  },
  {
   "cell_type": "code",
   "execution_count": 14,
   "metadata": {},
   "outputs": [],
   "source": [
    "batch = next(iter(train_dataloader))[\"sentence\"]\n",
    "out = model(batch)"
   ]
  },
  {
   "cell_type": "code",
   "execution_count": 15,
   "metadata": {},
   "outputs": [
    {
     "data": {
      "text/plain": [
       "(torch.Size([10, 255, 32000]), torch.Size([10, 255]))"
      ]
     },
     "execution_count": 15,
     "metadata": {},
     "output_type": "execute_result"
    }
   ],
   "source": [
    "out.shape, batch.shape"
   ]
  },
  {
   "cell_type": "code",
   "execution_count": 16,
   "metadata": {},
   "outputs": [],
   "source": [
    "from tqdm.notebook import tqdm\n",
    "def train_epoch(model, optimzer, criterion):\n",
    "    model.train()\n",
    "    LOSS = []\n",
    "    for epoch in tqdm(range(NUM_EPOCH), desc=\"train\"):\n",
    "        losses = 0\n",
    "        for batch in train_dataloader:\n",
    "            batch['sentence'] = batch['sentence']\n",
    "            logits = model(batch[\"sentence\"])\n",
    "            optimzer.zero_grad()\n",
    "            tgt_out = batch['sentence']\n",
    "            loss = criterion(logits.reshape(-1, logits.shape[-1]), tgt_out.reshape(-1).long())\n",
    "            loss.backward()\n",
    "            optimzer.step()\n",
    "            losses += loss.item()\n",
    "\n",
    "        losses = losses / len(list(train_dataloader))\n",
    "\n",
    "        LOSS += [losses]\n",
    "    return LOSS\n"
   ]
  },
  {
   "cell_type": "code",
   "execution_count": 17,
   "metadata": {},
   "outputs": [
    {
     "data": {
      "application/vnd.jupyter.widget-view+json": {
       "model_id": "c83d09dc6bc44d5daf77674c469ef221",
       "version_major": 2,
       "version_minor": 0
      },
      "text/plain": [
       "train:   0%|          | 0/1000 [00:00<?, ?it/s]"
      ]
     },
     "metadata": {},
     "output_type": "display_data"
    }
   ],
   "source": [
    "LOSS = train_epoch(model, optimzer, criterion)"
   ]
  },
  {
   "cell_type": "code",
   "execution_count": 19,
   "metadata": {},
   "outputs": [],
   "source": [
    "import matplotlib.pyplot as plt"
   ]
  },
  {
   "cell_type": "code",
   "execution_count": 20,
   "metadata": {},
   "outputs": [
    {
     "data": {
      "text/plain": [
       "[<matplotlib.lines.Line2D at 0x15504c210>]"
      ]
     },
     "execution_count": 20,
     "metadata": {},
     "output_type": "execute_result"
    },
    {
     "data": {
      "image/png": "[encoded data removed]",
      "text/plain": [
       "<Figure size 640x480 with 1 Axes>"
      ]
     },
     "metadata": {},
     "output_type": "display_data"
    }
   ],
   "source": [
    "plt.plot(LOSS)"
   ]
  },
  {
   "cell_type": "code",
   "execution_count": null,
   "metadata": {},
   "outputs": [],
   "source": []
  }
 ],
 "metadata": {
  "kernelspec": {
   "display_name": "llama",
   "language": "python",
   "name": "python3"
  },
  "language_info": {
   "codemirror_mode": {
    "name": "ipython",
    "version": 3
   },
   "file_extension": ".py",
   "mimetype": "text/x-python",
   "name": "python",
   "nbconvert_exporter": "python",
   "pygments_lexer": "ipython3",
   "version": "3.11.5"
  },
  "orig_nbformat": 4
 },
 "nbformat": 4,
 "nbformat_minor": 2
}
